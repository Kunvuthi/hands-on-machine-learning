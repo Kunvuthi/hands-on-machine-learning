{
 "cells": [
  {
   "cell_type": "code",
   "execution_count": 1,
   "metadata": {},
   "outputs": [
    {
     "data": {
      "text/html": [
       "<div>\n",
       "<style scoped>\n",
       "    .dataframe tbody tr th:only-of-type {\n",
       "        vertical-align: middle;\n",
       "    }\n",
       "\n",
       "    .dataframe tbody tr th {\n",
       "        vertical-align: top;\n",
       "    }\n",
       "\n",
       "    .dataframe thead th {\n",
       "        text-align: right;\n",
       "    }\n",
       "</style>\n",
       "<table border=\"1\" class=\"dataframe\">\n",
       "  <thead>\n",
       "    <tr style=\"text-align: right;\">\n",
       "      <th></th>\n",
       "      <th>AREACD</th>\n",
       "      <th>AREANM</th>\n",
       "      <th>earnings</th>\n",
       "      <th>Estimated Population mid-2019</th>\n",
       "      <th>Year ending Mar 2020</th>\n",
       "      <th>2019 people per sq. km</th>\n",
       "    </tr>\n",
       "  </thead>\n",
       "  <tbody>\n",
       "    <tr>\n",
       "      <th>0</th>\n",
       "      <td>E06000001</td>\n",
       "      <td>Hartlepool</td>\n",
       "      <td>557.2</td>\n",
       "      <td>93663</td>\n",
       "      <td>128500</td>\n",
       "      <td>999</td>\n",
       "    </tr>\n",
       "    <tr>\n",
       "      <th>1</th>\n",
       "      <td>E06000002</td>\n",
       "      <td>Middlesbrough</td>\n",
       "      <td>556.8</td>\n",
       "      <td>140980</td>\n",
       "      <td>137000</td>\n",
       "      <td>2616</td>\n",
       "    </tr>\n",
       "    <tr>\n",
       "      <th>2</th>\n",
       "      <td>E06000003</td>\n",
       "      <td>Redcar and Cleveland</td>\n",
       "      <td>506.2</td>\n",
       "      <td>137150</td>\n",
       "      <td>132950</td>\n",
       "      <td>560</td>\n",
       "    </tr>\n",
       "    <tr>\n",
       "      <th>3</th>\n",
       "      <td>E06000004</td>\n",
       "      <td>Stockton-on-Tees</td>\n",
       "      <td>537.3</td>\n",
       "      <td>197348</td>\n",
       "      <td>150000</td>\n",
       "      <td>963</td>\n",
       "    </tr>\n",
       "    <tr>\n",
       "      <th>4</th>\n",
       "      <td>E06000005</td>\n",
       "      <td>Darlington</td>\n",
       "      <td>519.3</td>\n",
       "      <td>106803</td>\n",
       "      <td>144000</td>\n",
       "      <td>541</td>\n",
       "    </tr>\n",
       "  </tbody>\n",
       "</table>\n",
       "</div>"
      ],
      "text/plain": [
       "      AREACD                 AREANM  earnings  Estimated Population mid-2019  \\\n",
       "0  E06000001            Hartlepool      557.2                          93663   \n",
       "1  E06000002         Middlesbrough      556.8                         140980   \n",
       "2  E06000003  Redcar and Cleveland      506.2                         137150   \n",
       "3  E06000004      Stockton-on-Tees      537.3                         197348   \n",
       "4  E06000005            Darlington      519.3                         106803   \n",
       "\n",
       "   Year ending Mar 2020  2019 people per sq. km  \n",
       "0                128500                     999  \n",
       "1                137000                    2616  \n",
       "2                132950                     560  \n",
       "3                150000                     963  \n",
       "4                144000                     541  "
      ]
     },
     "execution_count": 1,
     "metadata": {},
     "output_type": "execute_result"
    }
   ],
   "source": [
    "import pandas as pd\n",
    "import numpy as np\n",
    "\n",
    "df = pd.read_csv('Datasets/csv_files/uk_housing_2020.csv', encoding='latin1', thousands=',')\n",
    "df.head()"
   ]
  },
  {
   "cell_type": "code",
   "execution_count": 2,
   "metadata": {},
   "outputs": [
    {
     "name": "stdout",
     "output_type": "stream",
     "text": [
      "<class 'pandas.core.frame.DataFrame'>\n",
      "RangeIndex: 336 entries, 0 to 335\n",
      "Data columns (total 6 columns):\n",
      " #   Column                         Non-Null Count  Dtype  \n",
      "---  ------                         --------------  -----  \n",
      " 0   AREACD                         336 non-null    object \n",
      " 1   AREANM                         336 non-null    object \n",
      " 2   earnings                       335 non-null    float64\n",
      " 3   Estimated Population mid-2019  336 non-null    int64  \n",
      " 4   Year ending Mar 2020           336 non-null    int64  \n",
      " 5   2019 people per sq. km         336 non-null    int64  \n",
      "dtypes: float64(1), int64(3), object(2)\n",
      "memory usage: 15.9+ KB\n"
     ]
    }
   ],
   "source": [
    "df.info()"
   ]
  },
  {
   "cell_type": "code",
   "execution_count": 3,
   "metadata": {},
   "outputs": [],
   "source": [
    "df.rename(columns={'AREACD': 'area_code', 'AREANM': 'area_name', 'earnings': 'earnings_per_week', 'Year ending Mar 2020': 'median_house_price_paid_mar_2020', '2019 people per sq. km': 'density_per_sq.km_2019', 'Estimated Population mid-2019': 'population_2019' }, inplace=True)"
   ]
  },
  {
   "cell_type": "code",
   "execution_count": 4,
   "metadata": {},
   "outputs": [
    {
     "data": {
      "text/html": [
       "<div>\n",
       "<style scoped>\n",
       "    .dataframe tbody tr th:only-of-type {\n",
       "        vertical-align: middle;\n",
       "    }\n",
       "\n",
       "    .dataframe tbody tr th {\n",
       "        vertical-align: top;\n",
       "    }\n",
       "\n",
       "    .dataframe thead th {\n",
       "        text-align: right;\n",
       "    }\n",
       "</style>\n",
       "<table border=\"1\" class=\"dataframe\">\n",
       "  <thead>\n",
       "    <tr style=\"text-align: right;\">\n",
       "      <th></th>\n",
       "      <th>earnings_per_week</th>\n",
       "      <th>population_2019</th>\n",
       "      <th>median_house_price_paid_mar_2020</th>\n",
       "      <th>density_per_sq.km_2019</th>\n",
       "    </tr>\n",
       "  </thead>\n",
       "  <tbody>\n",
       "    <tr>\n",
       "      <th>count</th>\n",
       "      <td>335.000000</td>\n",
       "      <td>3.360000e+02</td>\n",
       "      <td>3.360000e+02</td>\n",
       "      <td>336.000000</td>\n",
       "    </tr>\n",
       "    <tr>\n",
       "      <th>mean</th>\n",
       "      <td>564.967463</td>\n",
       "      <td>1.769043e+05</td>\n",
       "      <td>2.719484e+05</td>\n",
       "      <td>1721.967262</td>\n",
       "    </tr>\n",
       "    <tr>\n",
       "      <th>std</th>\n",
       "      <td>83.505875</td>\n",
       "      <td>1.199554e+05</td>\n",
       "      <td>1.388520e+05</td>\n",
       "      <td>2598.663864</td>\n",
       "    </tr>\n",
       "    <tr>\n",
       "      <th>min</th>\n",
       "      <td>427.000000</td>\n",
       "      <td>2.224000e+03</td>\n",
       "      <td>9.000000e+04</td>\n",
       "      <td>25.000000</td>\n",
       "    </tr>\n",
       "    <tr>\n",
       "      <th>25%</th>\n",
       "      <td>516.500000</td>\n",
       "      <td>1.014192e+05</td>\n",
       "      <td>1.750000e+05</td>\n",
       "      <td>215.750000</td>\n",
       "    </tr>\n",
       "    <tr>\n",
       "      <th>50%</th>\n",
       "      <td>549.700000</td>\n",
       "      <td>1.383630e+05</td>\n",
       "      <td>2.400000e+05</td>\n",
       "      <td>603.500000</td>\n",
       "    </tr>\n",
       "    <tr>\n",
       "      <th>75%</th>\n",
       "      <td>590.300000</td>\n",
       "      <td>2.153825e+05</td>\n",
       "      <td>3.215000e+05</td>\n",
       "      <td>2314.500000</td>\n",
       "    </tr>\n",
       "    <tr>\n",
       "      <th>max</th>\n",
       "      <td>1103.100000</td>\n",
       "      <td>1.141816e+06</td>\n",
       "      <td>1.300000e+06</td>\n",
       "      <td>16427.000000</td>\n",
       "    </tr>\n",
       "  </tbody>\n",
       "</table>\n",
       "</div>"
      ],
      "text/plain": [
       "       earnings_per_week  population_2019  median_house_price_paid_mar_2020  \\\n",
       "count         335.000000     3.360000e+02                      3.360000e+02   \n",
       "mean          564.967463     1.769043e+05                      2.719484e+05   \n",
       "std            83.505875     1.199554e+05                      1.388520e+05   \n",
       "min           427.000000     2.224000e+03                      9.000000e+04   \n",
       "25%           516.500000     1.014192e+05                      1.750000e+05   \n",
       "50%           549.700000     1.383630e+05                      2.400000e+05   \n",
       "75%           590.300000     2.153825e+05                      3.215000e+05   \n",
       "max          1103.100000     1.141816e+06                      1.300000e+06   \n",
       "\n",
       "       density_per_sq.km_2019  \n",
       "count              336.000000  \n",
       "mean              1721.967262  \n",
       "std               2598.663864  \n",
       "min                 25.000000  \n",
       "25%                215.750000  \n",
       "50%                603.500000  \n",
       "75%               2314.500000  \n",
       "max              16427.000000  "
      ]
     },
     "execution_count": 4,
     "metadata": {},
     "output_type": "execute_result"
    }
   ],
   "source": [
    "df.describe()"
   ]
  },
  {
   "cell_type": "code",
   "execution_count": 5,
   "metadata": {},
   "outputs": [
    {
     "data": {
      "text/plain": [
       "area_code                           0\n",
       "area_name                           0\n",
       "earnings_per_week                   1\n",
       "population_2019                     0\n",
       "median_house_price_paid_mar_2020    0\n",
       "density_per_sq.km_2019              0\n",
       "dtype: int64"
      ]
     },
     "execution_count": 5,
     "metadata": {},
     "output_type": "execute_result"
    }
   ],
   "source": [
    "df.isnull().sum()"
   ]
  },
  {
   "cell_type": "code",
   "execution_count": 6,
   "metadata": {},
   "outputs": [
    {
     "data": {
      "text/plain": [
       "area_code                           0\n",
       "area_name                           0\n",
       "earnings_per_week                   0\n",
       "population_2019                     0\n",
       "median_house_price_paid_mar_2020    0\n",
       "density_per_sq.km_2019              0\n",
       "dtype: int64"
      ]
     },
     "execution_count": 6,
     "metadata": {},
     "output_type": "execute_result"
    }
   ],
   "source": [
    "df = df.dropna()\n",
    "df.isnull().sum()"
   ]
  },
  {
   "cell_type": "code",
   "execution_count": 7,
   "metadata": {},
   "outputs": [
    {
     "data": {
      "image/png": "[encoded data removed]",
      "text/plain": [
       "<Figure size 1440x1080 with 4 Axes>"
      ]
     },
     "metadata": {
      "needs_background": "light"
     },
     "output_type": "display_data"
    }
   ],
   "source": [
    "%matplotlib inline  \n",
    "## The 'matplotlib inline' only works in Jupyter Notebook  ##\n",
    "import matplotlib.pyplot as plt\n",
    "df.hist(bins=50, figsize=(20,15))\n",
    "plt.show()"
   ]
  },
  {
   "cell_type": "code",
   "execution_count": 8,
   "metadata": {},
   "outputs": [
    {
     "data": {
      "text/plain": [
       "427.0"
      ]
     },
     "execution_count": 8,
     "metadata": {},
     "output_type": "execute_result"
    }
   ],
   "source": [
    "df['earnings_per_week'].min()"
   ]
  },
  {
   "cell_type": "markdown",
   "metadata": {},
   "source": [
    "### Overall, the histograms are 'tail-heavy' ie they are left-wards leaning (positively skewed). This may make it harder for some Machine Learning algorithms to detect patterns. We might be able to transform these attributes to have more of a Gaussian bell-shaped distribution."
   ]
  },
  {
   "cell_type": "markdown",
   "metadata": {},
   "source": [
    "# Creating a Test Set"
   ]
  },
  {
   "cell_type": "code",
   "execution_count": 9,
   "metadata": {},
   "outputs": [],
   "source": [
    "from sklearn.model_selection import train_test_split"
   ]
  },
  {
   "cell_type": "code",
   "execution_count": 10,
   "metadata": {},
   "outputs": [],
   "source": [
    "X = df[['earnings_per_week','density_per_sq.km_2019']]\n",
    "Y = df[['median_house_price_paid_mar_2020']]\n",
    "\n",
    "x_train, x_test, y_train, y_test = train_test_split(X,Y, train_size=0.8, test_size=0.2, random_state=10)"
   ]
  },
  {
   "cell_type": "code",
   "execution_count": 11,
   "metadata": {},
   "outputs": [
    {
     "name": "stdout",
     "output_type": "stream",
     "text": [
      "268\n",
      "67\n",
      "268\n",
      "67\n"
     ]
    }
   ],
   "source": [
    "print(len(x_train))\n",
    "print(len(x_test))\n",
    "print(len(y_train))\n",
    "print(len(y_test))"
   ]
  },
  {
   "cell_type": "code",
   "execution_count": 12,
   "metadata": {},
   "outputs": [
    {
     "data": {
      "text/html": [
       "<div>\n",
       "<style scoped>\n",
       "    .dataframe tbody tr th:only-of-type {\n",
       "        vertical-align: middle;\n",
       "    }\n",
       "\n",
       "    .dataframe tbody tr th {\n",
       "        vertical-align: top;\n",
       "    }\n",
       "\n",
       "    .dataframe thead th {\n",
       "        text-align: right;\n",
       "    }\n",
       "</style>\n",
       "<table border=\"1\" class=\"dataframe\">\n",
       "  <thead>\n",
       "    <tr style=\"text-align: right;\">\n",
       "      <th></th>\n",
       "      <th>earnings_per_week</th>\n",
       "      <th>density_per_sq.km_2019</th>\n",
       "    </tr>\n",
       "  </thead>\n",
       "  <tbody>\n",
       "    <tr>\n",
       "      <th>81</th>\n",
       "      <td>477.5</td>\n",
       "      <td>199</td>\n",
       "    </tr>\n",
       "    <tr>\n",
       "      <th>99</th>\n",
       "      <td>520.7</td>\n",
       "      <td>436</td>\n",
       "    </tr>\n",
       "    <tr>\n",
       "      <th>149</th>\n",
       "      <td>536.7</td>\n",
       "      <td>666</td>\n",
       "    </tr>\n",
       "    <tr>\n",
       "      <th>60</th>\n",
       "      <td>558.2</td>\n",
       "      <td>196</td>\n",
       "    </tr>\n",
       "    <tr>\n",
       "      <th>37</th>\n",
       "      <td>634.2</td>\n",
       "      <td>771</td>\n",
       "    </tr>\n",
       "    <tr>\n",
       "      <th>...</th>\n",
       "      <td>...</td>\n",
       "      <td>...</td>\n",
       "    </tr>\n",
       "    <tr>\n",
       "      <th>124</th>\n",
       "      <td>515.9</td>\n",
       "      <td>224</td>\n",
       "    </tr>\n",
       "    <tr>\n",
       "      <th>321</th>\n",
       "      <td>492.9</td>\n",
       "      <td>78</td>\n",
       "    </tr>\n",
       "    <tr>\n",
       "      <th>15</th>\n",
       "      <td>536.2</td>\n",
       "      <td>4830</td>\n",
       "    </tr>\n",
       "    <tr>\n",
       "      <th>126</th>\n",
       "      <td>590.3</td>\n",
       "      <td>1548</td>\n",
       "    </tr>\n",
       "    <tr>\n",
       "      <th>266</th>\n",
       "      <td>539.4</td>\n",
       "      <td>2343</td>\n",
       "    </tr>\n",
       "  </tbody>\n",
       "</table>\n",
       "<p>268 rows × 2 columns</p>\n",
       "</div>"
      ],
      "text/plain": [
       "     earnings_per_week  density_per_sq.km_2019\n",
       "81               477.5                     199\n",
       "99               520.7                     436\n",
       "149              536.7                     666\n",
       "60               558.2                     196\n",
       "37               634.2                     771\n",
       "..                 ...                     ...\n",
       "124              515.9                     224\n",
       "321              492.9                      78\n",
       "15               536.2                    4830\n",
       "126              590.3                    1548\n",
       "266              539.4                    2343\n",
       "\n",
       "[268 rows x 2 columns]"
      ]
     },
     "execution_count": 12,
     "metadata": {},
     "output_type": "execute_result"
    }
   ],
   "source": [
    "x_train"
   ]
  },
  {
   "cell_type": "markdown",
   "metadata": {},
   "source": [
    "### However, we may have an issue here. SImply because our datasets is not large enough to be considered as a large dataset, we run the risk of introducing a significant sampling bias. We want the significant or important attributes to be representative of the overall population. If you run a certain survey at a purely random sampling to a population of 51% female, 49% male, you have about 12% chance of sampling a skewed test set that either makes less than 49% female, or 54% female. Overall, the results would be significantly biased."
   ]
  },
  {
   "cell_type": "markdown",
   "metadata": {},
   "source": [
    "### To mitigate this problem, we will use another type of train and test set."
   ]
  },
  {
   "cell_type": "code",
   "execution_count": 13,
   "metadata": {},
   "outputs": [
    {
     "data": {
      "text/plain": [
       "<AxesSubplot:>"
      ]
     },
     "execution_count": 13,
     "metadata": {},
     "output_type": "execute_result"
    },
    {
     "data": {
      "image/png": "[encoded data removed]",
      "text/plain": [
       "<Figure size 432x288 with 1 Axes>"
      ]
     },
     "metadata": {
      "needs_background": "light"
     },
     "output_type": "display_data"
    }
   ],
   "source": [
    "df['income_cat'] = pd.cut(df['earnings_per_week'], bins=[420., 490., 560., 630., 700., np.inf], labels=[1,2,3,4,5])\n",
    "df['income_cat'].hist()"
   ]
  },
  {
   "cell_type": "code",
   "execution_count": 14,
   "metadata": {},
   "outputs": [],
   "source": [
    "from sklearn.model_selection import StratifiedShuffleSplit"
   ]
  },
  {
   "cell_type": "code",
   "execution_count": 15,
   "metadata": {},
   "outputs": [],
   "source": [
    "sss = StratifiedShuffleSplit(n_splits=1, test_size=0.2, random_state=42)\n",
    "for train_index, test_index in sss.split(df, df['income_cat']):\n",
    "    strat_train_set = df.iloc[train_index]\n",
    "    strat_test_set = df.iloc[test_index]"
   ]
  },
  {
   "cell_type": "code",
   "execution_count": 16,
   "metadata": {},
   "outputs": [],
   "source": [
    "rand_train_x, rand_test_x, rand_train_y, rand_test_y = train_test_split(df['income_cat'],df['median_house_price_paid_mar_2020'], train_size=0.8, test_size=0.2, random_state=10)"
   ]
  },
  {
   "cell_type": "code",
   "execution_count": 17,
   "metadata": {},
   "outputs": [],
   "source": [
    "Stratified = strat_test_set['income_cat'].value_counts() / len(strat_test_set)"
   ]
  },
  {
   "cell_type": "code",
   "execution_count": 18,
   "metadata": {},
   "outputs": [],
   "source": [
    "Overall = df['income_cat'].value_counts() / len(df)"
   ]
  },
  {
   "cell_type": "code",
   "execution_count": 19,
   "metadata": {},
   "outputs": [],
   "source": [
    "Random = rand_test_x.value_counts() / len(rand_test_x)"
   ]
  },
  {
   "cell_type": "code",
   "execution_count": 20,
   "metadata": {},
   "outputs": [
    {
     "data": {
      "text/html": [
       "<div>\n",
       "<style scoped>\n",
       "    .dataframe tbody tr th:only-of-type {\n",
       "        vertical-align: middle;\n",
       "    }\n",
       "\n",
       "    .dataframe tbody tr th {\n",
       "        vertical-align: top;\n",
       "    }\n",
       "\n",
       "    .dataframe thead th {\n",
       "        text-align: right;\n",
       "    }\n",
       "</style>\n",
       "<table border=\"1\" class=\"dataframe\">\n",
       "  <thead>\n",
       "    <tr style=\"text-align: right;\">\n",
       "      <th></th>\n",
       "      <th>Overall</th>\n",
       "      <th>Stratified</th>\n",
       "      <th>Random</th>\n",
       "    </tr>\n",
       "  </thead>\n",
       "  <tbody>\n",
       "    <tr>\n",
       "      <th>2</th>\n",
       "      <td>0.435821</td>\n",
       "      <td>0.432836</td>\n",
       "      <td>0.477612</td>\n",
       "    </tr>\n",
       "    <tr>\n",
       "      <th>3</th>\n",
       "      <td>0.259701</td>\n",
       "      <td>0.268657</td>\n",
       "      <td>0.343284</td>\n",
       "    </tr>\n",
       "    <tr>\n",
       "      <th>1</th>\n",
       "      <td>0.134328</td>\n",
       "      <td>0.134328</td>\n",
       "      <td>0.074627</td>\n",
       "    </tr>\n",
       "    <tr>\n",
       "      <th>4</th>\n",
       "      <td>0.119403</td>\n",
       "      <td>0.119403</td>\n",
       "      <td>0.059701</td>\n",
       "    </tr>\n",
       "    <tr>\n",
       "      <th>5</th>\n",
       "      <td>0.050746</td>\n",
       "      <td>0.044776</td>\n",
       "      <td>0.044776</td>\n",
       "    </tr>\n",
       "  </tbody>\n",
       "</table>\n",
       "</div>"
      ],
      "text/plain": [
       "    Overall  Stratified    Random\n",
       "2  0.435821    0.432836  0.477612\n",
       "3  0.259701    0.268657  0.343284\n",
       "1  0.134328    0.134328  0.074627\n",
       "4  0.119403    0.119403  0.059701\n",
       "5  0.050746    0.044776  0.044776"
      ]
     },
     "execution_count": 20,
     "metadata": {},
     "output_type": "execute_result"
    }
   ],
   "source": [
    "data = {'Overall': Overall,\n",
    "        'Stratified': Stratified,\n",
    "        'Random':Random}\n",
    "\n",
    "df_sampling_bias_comp = pd.DataFrame(data)\n",
    "df_sampling_bias_comp"
   ]
  },
  {
   "cell_type": "code",
   "execution_count": 21,
   "metadata": {},
   "outputs": [],
   "source": [
    "df_sampling_bias_comp['Rand. %error'] = (df_sampling_bias_comp['Random'] - df_sampling_bias_comp['Overall'])*100 / df_sampling_bias_comp['Overall']\n",
    "df_sampling_bias_comp['Strat. %error'] = (df_sampling_bias_comp['Stratified'] - df_sampling_bias_comp['Overall'])*100 / df_sampling_bias_comp['Overall']"
   ]
  },
  {
   "cell_type": "code",
   "execution_count": 22,
   "metadata": {},
   "outputs": [
    {
     "data": {
      "text/html": [
       "<div>\n",
       "<style scoped>\n",
       "    .dataframe tbody tr th:only-of-type {\n",
       "        vertical-align: middle;\n",
       "    }\n",
       "\n",
       "    .dataframe tbody tr th {\n",
       "        vertical-align: top;\n",
       "    }\n",
       "\n",
       "    .dataframe thead th {\n",
       "        text-align: right;\n",
       "    }\n",
       "</style>\n",
       "<table border=\"1\" class=\"dataframe\">\n",
       "  <thead>\n",
       "    <tr style=\"text-align: right;\">\n",
       "      <th></th>\n",
       "      <th>Overall</th>\n",
       "      <th>Stratified</th>\n",
       "      <th>Random</th>\n",
       "      <th>Rand. %error</th>\n",
       "      <th>Strat. %error</th>\n",
       "    </tr>\n",
       "  </thead>\n",
       "  <tbody>\n",
       "    <tr>\n",
       "      <th>2</th>\n",
       "      <td>0.435821</td>\n",
       "      <td>0.432836</td>\n",
       "      <td>0.477612</td>\n",
       "      <td>9.589041</td>\n",
       "      <td>-0.684932</td>\n",
       "    </tr>\n",
       "    <tr>\n",
       "      <th>3</th>\n",
       "      <td>0.259701</td>\n",
       "      <td>0.268657</td>\n",
       "      <td>0.343284</td>\n",
       "      <td>32.183908</td>\n",
       "      <td>3.448276</td>\n",
       "    </tr>\n",
       "    <tr>\n",
       "      <th>1</th>\n",
       "      <td>0.134328</td>\n",
       "      <td>0.134328</td>\n",
       "      <td>0.074627</td>\n",
       "      <td>-44.444444</td>\n",
       "      <td>0.000000</td>\n",
       "    </tr>\n",
       "    <tr>\n",
       "      <th>4</th>\n",
       "      <td>0.119403</td>\n",
       "      <td>0.119403</td>\n",
       "      <td>0.059701</td>\n",
       "      <td>-50.000000</td>\n",
       "      <td>0.000000</td>\n",
       "    </tr>\n",
       "    <tr>\n",
       "      <th>5</th>\n",
       "      <td>0.050746</td>\n",
       "      <td>0.044776</td>\n",
       "      <td>0.044776</td>\n",
       "      <td>-11.764706</td>\n",
       "      <td>-11.764706</td>\n",
       "    </tr>\n",
       "  </tbody>\n",
       "</table>\n",
       "</div>"
      ],
      "text/plain": [
       "    Overall  Stratified    Random  Rand. %error  Strat. %error\n",
       "2  0.435821    0.432836  0.477612      9.589041      -0.684932\n",
       "3  0.259701    0.268657  0.343284     32.183908       3.448276\n",
       "1  0.134328    0.134328  0.074627    -44.444444       0.000000\n",
       "4  0.119403    0.119403  0.059701    -50.000000       0.000000\n",
       "5  0.050746    0.044776  0.044776    -11.764706     -11.764706"
      ]
     },
     "execution_count": 22,
     "metadata": {},
     "output_type": "execute_result"
    }
   ],
   "source": [
    "df_sampling_bias_comp"
   ]
  },
  {
   "cell_type": "markdown",
   "metadata": {},
   "source": [
    "### Lets now drop these income_cat attribute"
   ]
  },
  {
   "cell_type": "code",
   "execution_count": 23,
   "metadata": {},
   "outputs": [
    {
     "name": "stderr",
     "output_type": "stream",
     "text": [
      "C:\\Users\\User\\anaconda3\\lib\\site-packages\\pandas\\core\\frame.py:4163: SettingWithCopyWarning: \n",
      "A value is trying to be set on a copy of a slice from a DataFrame\n",
      "\n",
      "See the caveats in the documentation: https://pandas.pydata.org/pandas-docs/stable/user_guide/indexing.html#returning-a-view-versus-a-copy\n",
      "  return super().drop(\n"
     ]
    }
   ],
   "source": [
    "for set_ in (strat_train_set, strat_test_set):\n",
    "    set_.drop('income_cat', axis=1, inplace=True)"
   ]
  },
  {
   "cell_type": "code",
   "execution_count": 24,
   "metadata": {},
   "outputs": [
    {
     "data": {
      "text/html": [
       "<div>\n",
       "<style scoped>\n",
       "    .dataframe tbody tr th:only-of-type {\n",
       "        vertical-align: middle;\n",
       "    }\n",
       "\n",
       "    .dataframe tbody tr th {\n",
       "        vertical-align: top;\n",
       "    }\n",
       "\n",
       "    .dataframe thead th {\n",
       "        text-align: right;\n",
       "    }\n",
       "</style>\n",
       "<table border=\"1\" class=\"dataframe\">\n",
       "  <thead>\n",
       "    <tr style=\"text-align: right;\">\n",
       "      <th></th>\n",
       "      <th>area_code</th>\n",
       "      <th>area_name</th>\n",
       "      <th>earnings_per_week</th>\n",
       "      <th>population_2019</th>\n",
       "      <th>median_house_price_paid_mar_2020</th>\n",
       "      <th>density_per_sq.km_2019</th>\n",
       "      <th>income_cat</th>\n",
       "    </tr>\n",
       "  </thead>\n",
       "  <tbody>\n",
       "    <tr>\n",
       "      <th>0</th>\n",
       "      <td>E06000001</td>\n",
       "      <td>Hartlepool</td>\n",
       "      <td>557.2</td>\n",
       "      <td>93663</td>\n",
       "      <td>128500</td>\n",
       "      <td>999</td>\n",
       "      <td>2</td>\n",
       "    </tr>\n",
       "    <tr>\n",
       "      <th>1</th>\n",
       "      <td>E06000002</td>\n",
       "      <td>Middlesbrough</td>\n",
       "      <td>556.8</td>\n",
       "      <td>140980</td>\n",
       "      <td>137000</td>\n",
       "      <td>2616</td>\n",
       "      <td>2</td>\n",
       "    </tr>\n",
       "    <tr>\n",
       "      <th>2</th>\n",
       "      <td>E06000003</td>\n",
       "      <td>Redcar and Cleveland</td>\n",
       "      <td>506.2</td>\n",
       "      <td>137150</td>\n",
       "      <td>132950</td>\n",
       "      <td>560</td>\n",
       "      <td>2</td>\n",
       "    </tr>\n",
       "    <tr>\n",
       "      <th>3</th>\n",
       "      <td>E06000004</td>\n",
       "      <td>Stockton-on-Tees</td>\n",
       "      <td>537.3</td>\n",
       "      <td>197348</td>\n",
       "      <td>150000</td>\n",
       "      <td>963</td>\n",
       "      <td>2</td>\n",
       "    </tr>\n",
       "    <tr>\n",
       "      <th>4</th>\n",
       "      <td>E06000005</td>\n",
       "      <td>Darlington</td>\n",
       "      <td>519.3</td>\n",
       "      <td>106803</td>\n",
       "      <td>144000</td>\n",
       "      <td>541</td>\n",
       "      <td>2</td>\n",
       "    </tr>\n",
       "  </tbody>\n",
       "</table>\n",
       "</div>"
      ],
      "text/plain": [
       "   area_code              area_name  earnings_per_week  population_2019  \\\n",
       "0  E06000001            Hartlepool               557.2            93663   \n",
       "1  E06000002         Middlesbrough               556.8           140980   \n",
       "2  E06000003  Redcar and Cleveland               506.2           137150   \n",
       "3  E06000004      Stockton-on-Tees               537.3           197348   \n",
       "4  E06000005            Darlington               519.3           106803   \n",
       "\n",
       "   median_house_price_paid_mar_2020  density_per_sq.km_2019 income_cat  \n",
       "0                            128500                     999          2  \n",
       "1                            137000                    2616          2  \n",
       "2                            132950                     560          2  \n",
       "3                            150000                     963          2  \n",
       "4                            144000                     541          2  "
      ]
     },
     "execution_count": 24,
     "metadata": {},
     "output_type": "execute_result"
    }
   ],
   "source": [
    "df.head()"
   ]
  },
  {
   "cell_type": "markdown",
   "metadata": {},
   "source": [
    "## Looking for Correlations"
   ]
  },
  {
   "cell_type": "markdown",
   "metadata": {},
   "source": [
    "### - The correlation below is the 'Product Moment Correlation Coefficient' or simply 'Pearson's r'"
   ]
  },
  {
   "cell_type": "code",
   "execution_count": 25,
   "metadata": {},
   "outputs": [],
   "source": [
    "corr_matrix = df.corr()"
   ]
  },
  {
   "cell_type": "code",
   "execution_count": 26,
   "metadata": {},
   "outputs": [
    {
     "data": {
      "text/html": [
       "<div>\n",
       "<style scoped>\n",
       "    .dataframe tbody tr th:only-of-type {\n",
       "        vertical-align: middle;\n",
       "    }\n",
       "\n",
       "    .dataframe tbody tr th {\n",
       "        vertical-align: top;\n",
       "    }\n",
       "\n",
       "    .dataframe thead th {\n",
       "        text-align: right;\n",
       "    }\n",
       "</style>\n",
       "<table border=\"1\" class=\"dataframe\">\n",
       "  <thead>\n",
       "    <tr style=\"text-align: right;\">\n",
       "      <th></th>\n",
       "      <th>earnings_per_week</th>\n",
       "      <th>population_2019</th>\n",
       "      <th>median_house_price_paid_mar_2020</th>\n",
       "      <th>density_per_sq.km_2019</th>\n",
       "    </tr>\n",
       "  </thead>\n",
       "  <tbody>\n",
       "    <tr>\n",
       "      <th>earnings_per_week</th>\n",
       "      <td>1.000000</td>\n",
       "      <td>0.118232</td>\n",
       "      <td>0.567545</td>\n",
       "      <td>0.484857</td>\n",
       "    </tr>\n",
       "    <tr>\n",
       "      <th>population_2019</th>\n",
       "      <td>0.118232</td>\n",
       "      <td>1.000000</td>\n",
       "      <td>0.024152</td>\n",
       "      <td>0.344340</td>\n",
       "    </tr>\n",
       "    <tr>\n",
       "      <th>median_house_price_paid_mar_2020</th>\n",
       "      <td>0.567545</td>\n",
       "      <td>0.024152</td>\n",
       "      <td>1.000000</td>\n",
       "      <td>0.559873</td>\n",
       "    </tr>\n",
       "    <tr>\n",
       "      <th>density_per_sq.km_2019</th>\n",
       "      <td>0.484857</td>\n",
       "      <td>0.344340</td>\n",
       "      <td>0.559873</td>\n",
       "      <td>1.000000</td>\n",
       "    </tr>\n",
       "  </tbody>\n",
       "</table>\n",
       "</div>"
      ],
      "text/plain": [
       "                                  earnings_per_week  population_2019  \\\n",
       "earnings_per_week                          1.000000         0.118232   \n",
       "population_2019                            0.118232         1.000000   \n",
       "median_house_price_paid_mar_2020           0.567545         0.024152   \n",
       "density_per_sq.km_2019                     0.484857         0.344340   \n",
       "\n",
       "                                  median_house_price_paid_mar_2020  \\\n",
       "earnings_per_week                                         0.567545   \n",
       "population_2019                                           0.024152   \n",
       "median_house_price_paid_mar_2020                          1.000000   \n",
       "density_per_sq.km_2019                                    0.559873   \n",
       "\n",
       "                                  density_per_sq.km_2019  \n",
       "earnings_per_week                               0.484857  \n",
       "population_2019                                 0.344340  \n",
       "median_house_price_paid_mar_2020                0.559873  \n",
       "density_per_sq.km_2019                          1.000000  "
      ]
     },
     "execution_count": 26,
     "metadata": {},
     "output_type": "execute_result"
    }
   ],
   "source": [
    "corr_matrix"
   ]
  },
  {
   "cell_type": "code",
   "execution_count": 27,
   "metadata": {},
   "outputs": [
    {
     "data": {
      "text/plain": [
       "median_house_price_paid_mar_2020    1.000000\n",
       "earnings_per_week                   0.567545\n",
       "density_per_sq.km_2019              0.559873\n",
       "population_2019                     0.024152\n",
       "Name: median_house_price_paid_mar_2020, dtype: float64"
      ]
     },
     "execution_count": 27,
     "metadata": {},
     "output_type": "execute_result"
    }
   ],
   "source": [
    "corr_matrix[\"median_house_price_paid_mar_2020\"].sort_values(ascending=False)"
   ]
  },
  {
   "cell_type": "markdown",
   "metadata": {},
   "source": [
    "### - Using pandas scatter matrix"
   ]
  },
  {
   "cell_type": "code",
   "execution_count": 28,
   "metadata": {},
   "outputs": [
    {
     "data": {
      "text/plain": [
       "array([[<AxesSubplot:xlabel='median_house_price_paid_mar_2020', ylabel='median_house_price_paid_mar_2020'>,\n",
       "        <AxesSubplot:xlabel='earnings_per_week', ylabel='median_house_price_paid_mar_2020'>,\n",
       "        <AxesSubplot:xlabel='density_per_sq.km_2019', ylabel='median_house_price_paid_mar_2020'>],\n",
       "       [<AxesSubplot:xlabel='median_house_price_paid_mar_2020', ylabel='earnings_per_week'>,\n",
       "        <AxesSubplot:xlabel='earnings_per_week', ylabel='earnings_per_week'>,\n",
       "        <AxesSubplot:xlabel='density_per_sq.km_2019', ylabel='earnings_per_week'>],\n",
       "       [<AxesSubplot:xlabel='median_house_price_paid_mar_2020', ylabel='density_per_sq.km_2019'>,\n",
       "        <AxesSubplot:xlabel='earnings_per_week', ylabel='density_per_sq.km_2019'>,\n",
       "        <AxesSubplot:xlabel='density_per_sq.km_2019', ylabel='density_per_sq.km_2019'>]],\n",
       "      dtype=object)"
      ]
     },
     "execution_count": 28,
     "metadata": {},
     "output_type": "execute_result"
    },
    {
     "data": {
      "image/png": "[encoded data removed]",
      "text/plain": [
       "<Figure size 864x576 with 9 Axes>"
      ]
     },
     "metadata": {
      "needs_background": "light"
     },
     "output_type": "display_data"
    }
   ],
   "source": [
    "from pandas.plotting import scatter_matrix\n",
    "\n",
    "attributes = [\"median_house_price_paid_mar_2020\", 'earnings_per_week', 'density_per_sq.km_2019']\n",
    "\n",
    "scatter_matrix(df[attributes], figsize=(12,8))"
   ]
  },
  {
   "cell_type": "code",
   "execution_count": 29,
   "metadata": {},
   "outputs": [
    {
     "data": {
      "text/plain": [
       "<AxesSubplot:xlabel='earnings_per_week', ylabel='median_house_price_paid_mar_2020'>"
      ]
     },
     "execution_count": 29,
     "metadata": {},
     "output_type": "execute_result"
    },
    {
     "data": {
      "image/png": "[encoded data removed]",
      "text/plain": [
       "<Figure size 432x288 with 1 Axes>"
      ]
     },
     "metadata": {
      "needs_background": "light"
     },
     "output_type": "display_data"
    }
   ],
   "source": [
    "df.plot(kind='scatter', x='earnings_per_week', y='median_house_price_paid_mar_2020', alpha=0.7)"
   ]
  },
  {
   "cell_type": "markdown",
   "metadata": {},
   "source": [
    "## Experimenting with Attribute Combinations & Preparing Data for Machine Learning Algorithm (Data Cleaning)"
   ]
  },
  {
   "cell_type": "markdown",
   "metadata": {},
   "source": [
    "### - As we have noticed some attributes have a tail-heavy distribution, so we can transform them by computing their logarithm."
   ]
  },
  {
   "cell_type": "code",
   "execution_count": 30,
   "metadata": {},
   "outputs": [
    {
     "data": {
      "text/html": [
       "<div>\n",
       "<style scoped>\n",
       "    .dataframe tbody tr th:only-of-type {\n",
       "        vertical-align: middle;\n",
       "    }\n",
       "\n",
       "    .dataframe tbody tr th {\n",
       "        vertical-align: top;\n",
       "    }\n",
       "\n",
       "    .dataframe thead th {\n",
       "        text-align: right;\n",
       "    }\n",
       "</style>\n",
       "<table border=\"1\" class=\"dataframe\">\n",
       "  <thead>\n",
       "    <tr style=\"text-align: right;\">\n",
       "      <th></th>\n",
       "      <th>earnings_per_week</th>\n",
       "      <th>population_2019</th>\n",
       "      <th>density_per_sq.km_2019</th>\n",
       "    </tr>\n",
       "  </thead>\n",
       "  <tbody>\n",
       "    <tr>\n",
       "      <th>303</th>\n",
       "      <td>671.4</td>\n",
       "      <td>305842</td>\n",
       "      <td>8702</td>\n",
       "    </tr>\n",
       "    <tr>\n",
       "      <th>269</th>\n",
       "      <td>611.5</td>\n",
       "      <td>371521</td>\n",
       "      <td>3766</td>\n",
       "    </tr>\n",
       "    <tr>\n",
       "      <th>66</th>\n",
       "      <td>517.6</td>\n",
       "      <td>53253</td>\n",
       "      <td>25</td>\n",
       "    </tr>\n",
       "    <tr>\n",
       "      <th>319</th>\n",
       "      <td>565.7</td>\n",
       "      <td>135957</td>\n",
       "      <td>270</td>\n",
       "    </tr>\n",
       "    <tr>\n",
       "      <th>332</th>\n",
       "      <td>574.9</td>\n",
       "      <td>94590</td>\n",
       "      <td>111</td>\n",
       "    </tr>\n",
       "    <tr>\n",
       "      <th>...</th>\n",
       "      <td>...</td>\n",
       "      <td>...</td>\n",
       "      <td>...</td>\n",
       "    </tr>\n",
       "    <tr>\n",
       "      <th>86</th>\n",
       "      <td>534.8</td>\n",
       "      <td>103268</td>\n",
       "      <td>354</td>\n",
       "    </tr>\n",
       "    <tr>\n",
       "      <th>120</th>\n",
       "      <td>611.9</td>\n",
       "      <td>104919</td>\n",
       "      <td>1037</td>\n",
       "    </tr>\n",
       "    <tr>\n",
       "      <th>147</th>\n",
       "      <td>455.8</td>\n",
       "      <td>112091</td>\n",
       "      <td>397</td>\n",
       "    </tr>\n",
       "    <tr>\n",
       "      <th>320</th>\n",
       "      <td>451.5</td>\n",
       "      <td>72695</td>\n",
       "      <td>41</td>\n",
       "    </tr>\n",
       "    <tr>\n",
       "      <th>178</th>\n",
       "      <td>536.6</td>\n",
       "      <td>160831</td>\n",
       "      <td>123</td>\n",
       "    </tr>\n",
       "  </tbody>\n",
       "</table>\n",
       "<p>268 rows × 3 columns</p>\n",
       "</div>"
      ],
      "text/plain": [
       "     earnings_per_week  population_2019  density_per_sq.km_2019\n",
       "303              671.4           305842                    8702\n",
       "269              611.5           371521                    3766\n",
       "66               517.6            53253                      25\n",
       "319              565.7           135957                     270\n",
       "332              574.9            94590                     111\n",
       "..                 ...              ...                     ...\n",
       "86               534.8           103268                     354\n",
       "120              611.9           104919                    1037\n",
       "147              455.8           112091                     397\n",
       "320              451.5            72695                      41\n",
       "178              536.6           160831                     123\n",
       "\n",
       "[268 rows x 3 columns]"
      ]
     },
     "execution_count": 30,
     "metadata": {},
     "output_type": "execute_result"
    }
   ],
   "source": [
    "housing_labels = strat_train_set['median_house_price_paid_mar_2020'].copy()\n",
    "df_attributes = strat_train_set.drop([\"median_house_price_paid_mar_2020\", \"area_code\", \"area_name\"], axis=1)\n",
    "df_attributes"
   ]
  },
  {
   "cell_type": "markdown",
   "metadata": {},
   "source": [
    "### - Missing values or null values can be drop or replaced, which Scikit-Learn provides a handy class to take care of the missing values: SimpleImputer "
   ]
  },
  {
   "cell_type": "code",
   "execution_count": 31,
   "metadata": {},
   "outputs": [
    {
     "data": {
      "text/plain": [
       "SimpleImputer(strategy='median')"
      ]
     },
     "execution_count": 31,
     "metadata": {},
     "output_type": "execute_result"
    }
   ],
   "source": [
    "from sklearn.impute import SimpleImputer\n",
    "\n",
    "imputer = SimpleImputer(strategy=\"median\")\n",
    "imputer.fit(df_attributes)"
   ]
  },
  {
   "cell_type": "code",
   "execution_count": 32,
   "metadata": {},
   "outputs": [
    {
     "data": {
      "text/plain": [
       "array([   549.9, 137215. ,    617. ])"
      ]
     },
     "execution_count": 32,
     "metadata": {},
     "output_type": "execute_result"
    }
   ],
   "source": [
    "imputer.statistics_"
   ]
  },
  {
   "cell_type": "code",
   "execution_count": 33,
   "metadata": {},
   "outputs": [
    {
     "data": {
      "text/plain": [
       "array([   549.9, 137215. ,    617. ])"
      ]
     },
     "execution_count": 33,
     "metadata": {},
     "output_type": "execute_result"
    }
   ],
   "source": [
    "df_attributes.median().values"
   ]
  },
  {
   "cell_type": "code",
   "execution_count": 34,
   "metadata": {},
   "outputs": [],
   "source": [
    "X = imputer.transform(df_attributes)"
   ]
  },
  {
   "cell_type": "markdown",
   "metadata": {},
   "source": [
    "### - If our data have categorical attributes and is somewhat a targeted attribute as well, we can use OneHotEncoder which is demonstrated in the other machine learning notes. However, here we don't have any of them so we don't have to do any OneHotEncoder. Also Do not forget about the Multicollinearity problem which can occur when implementing the OneHotEncoder."
   ]
  },
  {
   "cell_type": "markdown",
   "metadata": {},
   "source": [
    "## Custom Transformers"
   ]
  },
  {
   "cell_type": "markdown",
   "metadata": {},
   "source": [
    "#### - An example of custom transformer below is to take the logarithm of the columns and concatenate these into the orginal dataframe.\n",
    "#### - Vocab: the parameter in the constructor (ie 'add_logarithms_density=True' is a type of hyper parameter)."
   ]
  },
  {
   "cell_type": "code",
   "execution_count": 47,
   "metadata": {},
   "outputs": [
    {
     "data": {
      "text/html": [
       "<div>\n",
       "<style scoped>\n",
       "    .dataframe tbody tr th:only-of-type {\n",
       "        vertical-align: middle;\n",
       "    }\n",
       "\n",
       "    .dataframe tbody tr th {\n",
       "        vertical-align: top;\n",
       "    }\n",
       "\n",
       "    .dataframe thead th {\n",
       "        text-align: right;\n",
       "    }\n",
       "</style>\n",
       "<table border=\"1\" class=\"dataframe\">\n",
       "  <thead>\n",
       "    <tr style=\"text-align: right;\">\n",
       "      <th></th>\n",
       "      <th>earnings_per_week</th>\n",
       "      <th>population_2019</th>\n",
       "      <th>median_house_price_paid_mar_2020</th>\n",
       "      <th>density_per_sq.km_2019</th>\n",
       "      <th>log_earnings</th>\n",
       "      <th>log_population</th>\n",
       "      <th>log_house_price</th>\n",
       "    </tr>\n",
       "  </thead>\n",
       "  <tbody>\n",
       "    <tr>\n",
       "      <th>0</th>\n",
       "      <td>557.2</td>\n",
       "      <td>93663.0</td>\n",
       "      <td>128500.0</td>\n",
       "      <td>999.0</td>\n",
       "      <td>2.746011</td>\n",
       "      <td>2.746011</td>\n",
       "      <td>5.108903</td>\n",
       "    </tr>\n",
       "    <tr>\n",
       "      <th>1</th>\n",
       "      <td>556.8</td>\n",
       "      <td>140980.0</td>\n",
       "      <td>137000.0</td>\n",
       "      <td>2616.0</td>\n",
       "      <td>2.745699</td>\n",
       "      <td>2.745699</td>\n",
       "      <td>5.136721</td>\n",
       "    </tr>\n",
       "    <tr>\n",
       "      <th>2</th>\n",
       "      <td>506.2</td>\n",
       "      <td>137150.0</td>\n",
       "      <td>132950.0</td>\n",
       "      <td>560.0</td>\n",
       "      <td>2.704322</td>\n",
       "      <td>2.704322</td>\n",
       "      <td>5.123688</td>\n",
       "    </tr>\n",
       "    <tr>\n",
       "      <th>3</th>\n",
       "      <td>537.3</td>\n",
       "      <td>197348.0</td>\n",
       "      <td>150000.0</td>\n",
       "      <td>963.0</td>\n",
       "      <td>2.730217</td>\n",
       "      <td>2.730217</td>\n",
       "      <td>5.176091</td>\n",
       "    </tr>\n",
       "    <tr>\n",
       "      <th>4</th>\n",
       "      <td>519.3</td>\n",
       "      <td>106803.0</td>\n",
       "      <td>144000.0</td>\n",
       "      <td>541.0</td>\n",
       "      <td>2.715418</td>\n",
       "      <td>2.715418</td>\n",
       "      <td>5.158362</td>\n",
       "    </tr>\n",
       "    <tr>\n",
       "      <th>...</th>\n",
       "      <td>...</td>\n",
       "      <td>...</td>\n",
       "      <td>...</td>\n",
       "      <td>...</td>\n",
       "      <td>...</td>\n",
       "      <td>...</td>\n",
       "      <td>...</td>\n",
       "    </tr>\n",
       "    <tr>\n",
       "      <th>330</th>\n",
       "      <td>572.7</td>\n",
       "      <td>93961.0</td>\n",
       "      <td>157500.0</td>\n",
       "      <td>748.0</td>\n",
       "      <td>2.757927</td>\n",
       "      <td>2.757927</td>\n",
       "      <td>5.197281</td>\n",
       "    </tr>\n",
       "    <tr>\n",
       "      <th>331</th>\n",
       "      <td>574.9</td>\n",
       "      <td>94590.0</td>\n",
       "      <td>262000.0</td>\n",
       "      <td>111.0</td>\n",
       "      <td>2.759592</td>\n",
       "      <td>2.759592</td>\n",
       "      <td>5.418301</td>\n",
       "    </tr>\n",
       "    <tr>\n",
       "      <th>332</th>\n",
       "      <td>550.1</td>\n",
       "      <td>154676.0</td>\n",
       "      <td>179950.0</td>\n",
       "      <td>812.0</td>\n",
       "      <td>2.740442</td>\n",
       "      <td>2.740442</td>\n",
       "      <td>5.255152</td>\n",
       "    </tr>\n",
       "    <tr>\n",
       "      <th>333</th>\n",
       "      <td>540.2</td>\n",
       "      <td>132435.0</td>\n",
       "      <td>180000.0</td>\n",
       "      <td>26.0</td>\n",
       "      <td>2.732555</td>\n",
       "      <td>2.732555</td>\n",
       "      <td>5.255273</td>\n",
       "    </tr>\n",
       "    <tr>\n",
       "      <th>334</th>\n",
       "      <td>534.0</td>\n",
       "      <td>60326.0</td>\n",
       "      <td>113000.0</td>\n",
       "      <td>541.0</td>\n",
       "      <td>2.727541</td>\n",
       "      <td>2.727541</td>\n",
       "      <td>5.053078</td>\n",
       "    </tr>\n",
       "  </tbody>\n",
       "</table>\n",
       "<p>335 rows × 7 columns</p>\n",
       "</div>"
      ],
      "text/plain": [
       "     earnings_per_week  population_2019  median_house_price_paid_mar_2020  \\\n",
       "0                557.2          93663.0                          128500.0   \n",
       "1                556.8         140980.0                          137000.0   \n",
       "2                506.2         137150.0                          132950.0   \n",
       "3                537.3         197348.0                          150000.0   \n",
       "4                519.3         106803.0                          144000.0   \n",
       "..                 ...              ...                               ...   \n",
       "330              572.7          93961.0                          157500.0   \n",
       "331              574.9          94590.0                          262000.0   \n",
       "332              550.1         154676.0                          179950.0   \n",
       "333              540.2         132435.0                          180000.0   \n",
       "334              534.0          60326.0                          113000.0   \n",
       "\n",
       "     density_per_sq.km_2019  log_earnings  log_population  log_house_price  \n",
       "0                     999.0      2.746011        2.746011         5.108903  \n",
       "1                    2616.0      2.745699        2.745699         5.136721  \n",
       "2                     560.0      2.704322        2.704322         5.123688  \n",
       "3                     963.0      2.730217        2.730217         5.176091  \n",
       "4                     541.0      2.715418        2.715418         5.158362  \n",
       "..                      ...           ...             ...              ...  \n",
       "330                   748.0      2.757927        2.757927         5.197281  \n",
       "331                   111.0      2.759592        2.759592         5.418301  \n",
       "332                   812.0      2.740442        2.740442         5.255152  \n",
       "333                    26.0      2.732555        2.732555         5.255273  \n",
       "334                   541.0      2.727541        2.727541         5.053078  \n",
       "\n",
       "[335 rows x 7 columns]"
      ]
     },
     "execution_count": 47,
     "metadata": {},
     "output_type": "execute_result"
    }
   ],
   "source": [
    "from sklearn.base import BaseEstimator, TransformerMixin\n",
    "\n",
    "earning_index, population_index, house_price_index, density_index = 0, 1, 2, 3\n",
    "\n",
    "class LogarithmiseAttributes(BaseEstimator, TransformerMixin):\n",
    "    def __init__(self, add_logarithms_density=True, add_logarithms_house_price=False):\n",
    "        self.add_logarithms_density = add_logarithms_density\n",
    "        self.add_logarithms_house_price = add_logarithms_house_price\n",
    "        \n",
    "    def fit(self, X, y=None):\n",
    "        return self # no need to do anything here\n",
    "    \n",
    "    def transform(self, X):\n",
    "        log_earnings = np.log10(X[:,earning_index])\n",
    "        log_population = np.log10(X[:,earning_index])\n",
    "        if self.add_logarithms_density:\n",
    "            if self.add_logarithms_house_price:\n",
    "                log_house_price = np.log10(X[:,house_price_index])\n",
    "                log_density = np.log10(X[:,density_index])\n",
    "                return np.c_[X, log_earnings, log_population, log_density, log_house_price]\n",
    "            log_density = np.log10(X[:,density_index])\n",
    "            return np.c_[X, log_earnings, log_population, log_density]\n",
    "        elif self.add_logarithms_house_price:\n",
    "            log_house_price = np.log10(X[:,house_price_index])\n",
    "            return np.c_[X, log_earnings, log_population, log_house_price]\n",
    "        else:\n",
    "            return np.c_[X, log_earnings, log_population]\n",
    "        \n",
    "attr_adder = LogarithmiseAttributes(add_logarithms_density=False, add_logarithms_house_price=True)\n",
    "df_with_logs = attr_adder.transform(df.drop([ \"area_code\", \"area_name\", 'income_cat'], axis=1).values)\n",
    "\n",
    "df_with_logs = pd.DataFrame(df_with_logs, columns = [\"earnings_per_week\",\"population_2019\",\"median_house_price_paid_mar_2020\",\"density_per_sq.km_2019\",'log_earnings','log_population', 'log_house_price'])\n",
    "df_with_logs"
   ]
  },
  {
   "cell_type": "code",
   "execution_count": 51,
   "metadata": {},
   "outputs": [],
   "source": [
    "from sklearn.pipeline import Pipeline\n",
    "from sklearn.preprocessing import StandardScaler\n",
    "\n",
    "num_pipeline = Pipeline([\n",
    "    ('imputer', SimpleImputer(strategy='median')),\n",
    "   #('logarithmise', LogarithmiseAttributes()),#\n",
    "    ('std_scaler', StandardScaler())\n",
    "])\n",
    "\n",
    "housing_attr_tr = num_pipeline.fit_transform(df_attributes)"
   ]
  },
  {
   "cell_type": "code",
   "execution_count": 53,
   "metadata": {},
   "outputs": [
    {
     "data": {
      "text/plain": [
       "303    427500\n",
       "269    183000\n",
       "66     209950\n",
       "319    153000\n",
       "332    262000\n",
       "        ...  \n",
       "86     321000\n",
       "120    445000\n",
       "147    162000\n",
       "320    185750\n",
       "178    297500\n",
       "Name: median_house_price_paid_mar_2020, Length: 268, dtype: int64"
      ]
     },
     "execution_count": 53,
     "metadata": {},
     "output_type": "execute_result"
    }
   ],
   "source": [
    "housing_labels"
   ]
  },
  {
   "cell_type": "markdown",
   "metadata": {},
   "source": [
    "# Select and Train a Model"
   ]
  },
  {
   "cell_type": "code",
   "execution_count": null,
   "metadata": {},
   "outputs": [],
   "source": []
  }
 ],
 "metadata": {
  "kernelspec": {
   "display_name": "Python 3",
   "language": "python",
   "name": "python3"
  },
  "language_info": {
   "codemirror_mode": {
    "name": "ipython",
    "version": 3
   },
   "file_extension": ".py",
   "mimetype": "text/x-python",
   "name": "python",
   "nbconvert_exporter": "python",
   "pygments_lexer": "ipython3",
   "version": "3.8.5"
  }
 },
 "nbformat": 4,
 "nbformat_minor": 4
}
