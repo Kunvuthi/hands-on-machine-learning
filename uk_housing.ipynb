{
 "cells": [
  {
   "cell_type": "code",
   "execution_count": 24,
   "metadata": {},
   "outputs": [
    {
     "data": {
      "text/html": [
       "<div>\n",
       "<style scoped>\n",
       "    .dataframe tbody tr th:only-of-type {\n",
       "        vertical-align: middle;\n",
       "    }\n",
       "\n",
       "    .dataframe tbody tr th {\n",
       "        vertical-align: top;\n",
       "    }\n",
       "\n",
       "    .dataframe thead th {\n",
       "        text-align: right;\n",
       "    }\n",
       "</style>\n",
       "<table border=\"1\" class=\"dataframe\">\n",
       "  <thead>\n",
       "    <tr style=\"text-align: right;\">\n",
       "      <th></th>\n",
       "      <th>AREACD</th>\n",
       "      <th>AREANM</th>\n",
       "      <th>earnings</th>\n",
       "      <th>Estimated Population mid-2019</th>\n",
       "      <th>Year ending Mar 2020</th>\n",
       "      <th>2019 people per sq. km</th>\n",
       "    </tr>\n",
       "  </thead>\n",
       "  <tbody>\n",
       "    <tr>\n",
       "      <th>0</th>\n",
       "      <td>E06000001</td>\n",
       "      <td>Hartlepool</td>\n",
       "      <td>557.2</td>\n",
       "      <td>93663</td>\n",
       "      <td>128500</td>\n",
       "      <td>999</td>\n",
       "    </tr>\n",
       "    <tr>\n",
       "      <th>1</th>\n",
       "      <td>E06000002</td>\n",
       "      <td>Middlesbrough</td>\n",
       "      <td>556.8</td>\n",
       "      <td>140980</td>\n",
       "      <td>137000</td>\n",
       "      <td>2616</td>\n",
       "    </tr>\n",
       "    <tr>\n",
       "      <th>2</th>\n",
       "      <td>E06000003</td>\n",
       "      <td>Redcar and Cleveland</td>\n",
       "      <td>506.2</td>\n",
       "      <td>137150</td>\n",
       "      <td>132950</td>\n",
       "      <td>560</td>\n",
       "    </tr>\n",
       "    <tr>\n",
       "      <th>3</th>\n",
       "      <td>E06000004</td>\n",
       "      <td>Stockton-on-Tees</td>\n",
       "      <td>537.3</td>\n",
       "      <td>197348</td>\n",
       "      <td>150000</td>\n",
       "      <td>963</td>\n",
       "    </tr>\n",
       "    <tr>\n",
       "      <th>4</th>\n",
       "      <td>E06000005</td>\n",
       "      <td>Darlington</td>\n",
       "      <td>519.3</td>\n",
       "      <td>106803</td>\n",
       "      <td>144000</td>\n",
       "      <td>541</td>\n",
       "    </tr>\n",
       "  </tbody>\n",
       "</table>\n",
       "</div>"
      ],
      "text/plain": [
       "      AREACD                 AREANM  earnings  Estimated Population mid-2019  \\\n",
       "0  E06000001            Hartlepool      557.2                          93663   \n",
       "1  E06000002         Middlesbrough      556.8                         140980   \n",
       "2  E06000003  Redcar and Cleveland      506.2                         137150   \n",
       "3  E06000004      Stockton-on-Tees      537.3                         197348   \n",
       "4  E06000005            Darlington      519.3                         106803   \n",
       "\n",
       "   Year ending Mar 2020  2019 people per sq. km  \n",
       "0                128500                     999  \n",
       "1                137000                    2616  \n",
       "2                132950                     560  \n",
       "3                150000                     963  \n",
       "4                144000                     541  "
      ]
     },
     "execution_count": 24,
     "metadata": {},
     "output_type": "execute_result"
    }
   ],
   "source": [
    "import pandas as pd\n",
    "import numpy as np\n",
    "\n",
    "df = pd.read_csv('Datasets/csv_files/uk_housing_2020.csv', encoding='latin1', thousands=',')\n",
    "df.head()"
   ]
  },
  {
   "cell_type": "code",
   "execution_count": 25,
   "metadata": {},
   "outputs": [
    {
     "name": "stdout",
     "output_type": "stream",
     "text": [
      "<class 'pandas.core.frame.DataFrame'>\n",
      "RangeIndex: 336 entries, 0 to 335\n",
      "Data columns (total 6 columns):\n",
      " #   Column                         Non-Null Count  Dtype  \n",
      "---  ------                         --------------  -----  \n",
      " 0   AREACD                         336 non-null    object \n",
      " 1   AREANM                         336 non-null    object \n",
      " 2   earnings                       335 non-null    float64\n",
      " 3   Estimated Population mid-2019  336 non-null    int64  \n",
      " 4   Year ending Mar 2020           336 non-null    int64  \n",
      " 5   2019 people per sq. km         336 non-null    int64  \n",
      "dtypes: float64(1), int64(3), object(2)\n",
      "memory usage: 15.9+ KB\n"
     ]
    }
   ],
   "source": [
    "df.info()"
   ]
  },
  {
   "cell_type": "code",
   "execution_count": 26,
   "metadata": {},
   "outputs": [],
   "source": [
    "df.rename(columns={'AREACD': 'area_code', 'AREANM': 'area_name', 'earnings': 'earnings_per_week', 'Year ending Mar 2020': 'median_house_price_paid_mar_2020', '2019 people per sq. km': 'density_per_sq.km_2019', 'Estimated Population mid-2019': 'population_2019' }, inplace=True)"
   ]
  },
  {
   "cell_type": "code",
   "execution_count": 27,
   "metadata": {},
   "outputs": [
    {
     "data": {
      "text/html": [
       "<div>\n",
       "<style scoped>\n",
       "    .dataframe tbody tr th:only-of-type {\n",
       "        vertical-align: middle;\n",
       "    }\n",
       "\n",
       "    .dataframe tbody tr th {\n",
       "        vertical-align: top;\n",
       "    }\n",
       "\n",
       "    .dataframe thead th {\n",
       "        text-align: right;\n",
       "    }\n",
       "</style>\n",
       "<table border=\"1\" class=\"dataframe\">\n",
       "  <thead>\n",
       "    <tr style=\"text-align: right;\">\n",
       "      <th></th>\n",
       "      <th>earnings_per_week</th>\n",
       "      <th>population_2019</th>\n",
       "      <th>median_house_price_paid_mar_2020</th>\n",
       "      <th>density_per_sq.km_2019</th>\n",
       "    </tr>\n",
       "  </thead>\n",
       "  <tbody>\n",
       "    <tr>\n",
       "      <th>count</th>\n",
       "      <td>335.000000</td>\n",
       "      <td>3.360000e+02</td>\n",
       "      <td>3.360000e+02</td>\n",
       "      <td>336.000000</td>\n",
       "    </tr>\n",
       "    <tr>\n",
       "      <th>mean</th>\n",
       "      <td>564.967463</td>\n",
       "      <td>1.769043e+05</td>\n",
       "      <td>2.719484e+05</td>\n",
       "      <td>1721.967262</td>\n",
       "    </tr>\n",
       "    <tr>\n",
       "      <th>std</th>\n",
       "      <td>83.505875</td>\n",
       "      <td>1.199554e+05</td>\n",
       "      <td>1.388520e+05</td>\n",
       "      <td>2598.663864</td>\n",
       "    </tr>\n",
       "    <tr>\n",
       "      <th>min</th>\n",
       "      <td>427.000000</td>\n",
       "      <td>2.224000e+03</td>\n",
       "      <td>9.000000e+04</td>\n",
       "      <td>25.000000</td>\n",
       "    </tr>\n",
       "    <tr>\n",
       "      <th>25%</th>\n",
       "      <td>516.500000</td>\n",
       "      <td>1.014192e+05</td>\n",
       "      <td>1.750000e+05</td>\n",
       "      <td>215.750000</td>\n",
       "    </tr>\n",
       "    <tr>\n",
       "      <th>50%</th>\n",
       "      <td>549.700000</td>\n",
       "      <td>1.383630e+05</td>\n",
       "      <td>2.400000e+05</td>\n",
       "      <td>603.500000</td>\n",
       "    </tr>\n",
       "    <tr>\n",
       "      <th>75%</th>\n",
       "      <td>590.300000</td>\n",
       "      <td>2.153825e+05</td>\n",
       "      <td>3.215000e+05</td>\n",
       "      <td>2314.500000</td>\n",
       "    </tr>\n",
       "    <tr>\n",
       "      <th>max</th>\n",
       "      <td>1103.100000</td>\n",
       "      <td>1.141816e+06</td>\n",
       "      <td>1.300000e+06</td>\n",
       "      <td>16427.000000</td>\n",
       "    </tr>\n",
       "  </tbody>\n",
       "</table>\n",
       "</div>"
      ],
      "text/plain": [
       "       earnings_per_week  population_2019  median_house_price_paid_mar_2020  \\\n",
       "count         335.000000     3.360000e+02                      3.360000e+02   \n",
       "mean          564.967463     1.769043e+05                      2.719484e+05   \n",
       "std            83.505875     1.199554e+05                      1.388520e+05   \n",
       "min           427.000000     2.224000e+03                      9.000000e+04   \n",
       "25%           516.500000     1.014192e+05                      1.750000e+05   \n",
       "50%           549.700000     1.383630e+05                      2.400000e+05   \n",
       "75%           590.300000     2.153825e+05                      3.215000e+05   \n",
       "max          1103.100000     1.141816e+06                      1.300000e+06   \n",
       "\n",
       "       density_per_sq.km_2019  \n",
       "count              336.000000  \n",
       "mean              1721.967262  \n",
       "std               2598.663864  \n",
       "min                 25.000000  \n",
       "25%                215.750000  \n",
       "50%                603.500000  \n",
       "75%               2314.500000  \n",
       "max              16427.000000  "
      ]
     },
     "execution_count": 27,
     "metadata": {},
     "output_type": "execute_result"
    }
   ],
   "source": [
    "df.describe()"
   ]
  },
  {
   "cell_type": "code",
   "execution_count": 35,
   "metadata": {},
   "outputs": [
    {
     "data": {
      "text/plain": [
       "area_code                           0\n",
       "area_name                           0\n",
       "earnings_per_week                   1\n",
       "population_2019                     0\n",
       "median_house_price_paid_mar_2020    0\n",
       "density_per_sq.km_2019              0\n",
       "income_cat                          1\n",
       "dtype: int64"
      ]
     },
     "execution_count": 35,
     "metadata": {},
     "output_type": "execute_result"
    }
   ],
   "source": [
    "df.isnull().sum()"
   ]
  },
  {
   "cell_type": "code",
   "execution_count": 37,
   "metadata": {},
   "outputs": [
    {
     "data": {
      "text/plain": [
       "area_code                           0\n",
       "area_name                           0\n",
       "earnings_per_week                   0\n",
       "population_2019                     0\n",
       "median_house_price_paid_mar_2020    0\n",
       "density_per_sq.km_2019              0\n",
       "income_cat                          0\n",
       "dtype: int64"
      ]
     },
     "execution_count": 37,
     "metadata": {},
     "output_type": "execute_result"
    }
   ],
   "source": [
    "df = df.dropna()\n",
    "df.isnull().sum()"
   ]
  },
  {
   "cell_type": "code",
   "execution_count": 28,
   "metadata": {},
   "outputs": [
    {
     "data": {
      "image/png": "[encoded data removed]",
      "text/plain": [
       "<Figure size 1440x1080 with 4 Axes>"
      ]
     },
     "metadata": {
      "needs_background": "light"
     },
     "output_type": "display_data"
    }
   ],
   "source": [
    "%matplotlib inline  \n",
    "## The 'matplotlib inline' only works in Jupyter Notebook  ##\n",
    "import matplotlib.pyplot as plt\n",
    "df.hist(bins=50, figsize=(20,15))\n",
    "plt.show()"
   ]
  },
  {
   "cell_type": "code",
   "execution_count": 29,
   "metadata": {},
   "outputs": [
    {
     "data": {
      "text/plain": [
       "427.0"
      ]
     },
     "execution_count": 29,
     "metadata": {},
     "output_type": "execute_result"
    }
   ],
   "source": [
    "df['earnings_per_week'].min()"
   ]
  },
  {
   "cell_type": "markdown",
   "metadata": {},
   "source": [
    "### Overall, the histograms are 'tail-heavy' ie they are left-wards leaning (positively skewed). This may make it harder for some Machine Learning algorithms to detect patterns. We might be able to transform these attributes to have more of a Gaussian bell-shaped distribution."
   ]
  },
  {
   "cell_type": "markdown",
   "metadata": {},
   "source": [
    "# Creating a Test Set"
   ]
  },
  {
   "cell_type": "code",
   "execution_count": 18,
   "metadata": {},
   "outputs": [],
   "source": [
    "from sklearn.model_selection import train_test_split"
   ]
  },
  {
   "cell_type": "code",
   "execution_count": 19,
   "metadata": {},
   "outputs": [],
   "source": [
    "X = df[['earnings_per_week','density_per_sq.km_2019']]\n",
    "Y = df[['median_house_price_paid_mar_2020']]\n",
    "\n",
    "x_train, x_test, y_train, y_test = train_test_split(X,Y, train_size=0.8, test_size=0.2, random_state=10)"
   ]
  },
  {
   "cell_type": "code",
   "execution_count": 20,
   "metadata": {},
   "outputs": [
    {
     "name": "stdout",
     "output_type": "stream",
     "text": [
      "268\n",
      "68\n",
      "268\n",
      "68\n"
     ]
    }
   ],
   "source": [
    "print(len(x_train))\n",
    "print(len(x_test))\n",
    "print(len(y_train))\n",
    "print(len(y_test))"
   ]
  },
  {
   "cell_type": "code",
   "execution_count": 21,
   "metadata": {},
   "outputs": [
    {
     "data": {
      "text/html": [
       "<div>\n",
       "<style scoped>\n",
       "    .dataframe tbody tr th:only-of-type {\n",
       "        vertical-align: middle;\n",
       "    }\n",
       "\n",
       "    .dataframe tbody tr th {\n",
       "        vertical-align: top;\n",
       "    }\n",
       "\n",
       "    .dataframe thead th {\n",
       "        text-align: right;\n",
       "    }\n",
       "</style>\n",
       "<table border=\"1\" class=\"dataframe\">\n",
       "  <thead>\n",
       "    <tr style=\"text-align: right;\">\n",
       "      <th></th>\n",
       "      <th>earnings_per_week</th>\n",
       "      <th>density_per_sq.km_2019</th>\n",
       "    </tr>\n",
       "  </thead>\n",
       "  <tbody>\n",
       "    <tr>\n",
       "      <th>25</th>\n",
       "      <td>558.2</td>\n",
       "      <td>3282</td>\n",
       "    </tr>\n",
       "    <tr>\n",
       "      <th>308</th>\n",
       "      <td>806.7</td>\n",
       "      <td>11045</td>\n",
       "    </tr>\n",
       "    <tr>\n",
       "      <th>227</th>\n",
       "      <td>502.5</td>\n",
       "      <td>154</td>\n",
       "    </tr>\n",
       "    <tr>\n",
       "      <th>105</th>\n",
       "      <td>564.8</td>\n",
       "      <td>260</td>\n",
       "    </tr>\n",
       "    <tr>\n",
       "      <th>59</th>\n",
       "      <td>474.7</td>\n",
       "      <td>186</td>\n",
       "    </tr>\n",
       "    <tr>\n",
       "      <th>...</th>\n",
       "      <td>...</td>\n",
       "      <td>...</td>\n",
       "    </tr>\n",
       "    <tr>\n",
       "      <th>123</th>\n",
       "      <td>608.1</td>\n",
       "      <td>4507</td>\n",
       "    </tr>\n",
       "    <tr>\n",
       "      <th>320</th>\n",
       "      <td>451.5</td>\n",
       "      <td>41</td>\n",
       "    </tr>\n",
       "    <tr>\n",
       "      <th>15</th>\n",
       "      <td>536.2</td>\n",
       "      <td>4830</td>\n",
       "    </tr>\n",
       "    <tr>\n",
       "      <th>125</th>\n",
       "      <td>532.7</td>\n",
       "      <td>536</td>\n",
       "    </tr>\n",
       "    <tr>\n",
       "      <th>265</th>\n",
       "      <td>502.1</td>\n",
       "      <td>2526</td>\n",
       "    </tr>\n",
       "  </tbody>\n",
       "</table>\n",
       "<p>268 rows × 2 columns</p>\n",
       "</div>"
      ],
      "text/plain": [
       "     earnings_per_week  density_per_sq.km_2019\n",
       "25               558.2                    3282\n",
       "308              806.7                   11045\n",
       "227              502.5                     154\n",
       "105              564.8                     260\n",
       "59               474.7                     186\n",
       "..                 ...                     ...\n",
       "123              608.1                    4507\n",
       "320              451.5                      41\n",
       "15               536.2                    4830\n",
       "125              532.7                     536\n",
       "265              502.1                    2526\n",
       "\n",
       "[268 rows x 2 columns]"
      ]
     },
     "execution_count": 21,
     "metadata": {},
     "output_type": "execute_result"
    }
   ],
   "source": [
    "x_train"
   ]
  },
  {
   "cell_type": "markdown",
   "metadata": {},
   "source": [
    "### However, we may have an issue here. SImply because our datasets is not large enough to be considered as a large dataset, we run the risk of introducing a significant sampling bias. We want the significant or important attributes to be representative of the overall population. If you run a certain survey at a purely random sampling to a population of 51% female, 49% male, you have about 12% chance of sampling a skewed test set that either makes less than 49% female, or 54% female. Overall, the results would be significantly biased."
   ]
  },
  {
   "cell_type": "markdown",
   "metadata": {},
   "source": [
    "### To mitigate this problem, we will use another type of train and test set."
   ]
  },
  {
   "cell_type": "code",
   "execution_count": 31,
   "metadata": {},
   "outputs": [
    {
     "data": {
      "text/plain": [
       "<AxesSubplot:>"
      ]
     },
     "execution_count": 31,
     "metadata": {},
     "output_type": "execute_result"
    },
    {
     "data": {
      "image/png": "[encoded data removed]",
      "text/plain": [
       "<Figure size 432x288 with 1 Axes>"
      ]
     },
     "metadata": {
      "needs_background": "light"
     },
     "output_type": "display_data"
    }
   ],
   "source": [
    "df['income_cat'] = pd.cut(df['earnings_per_week'], bins=[420., 490., 560., 630., 700., np.inf], labels=[1,2,3,4,5])\n",
    "df['income_cat'].hist()"
   ]
  },
  {
   "cell_type": "code",
   "execution_count": 33,
   "metadata": {},
   "outputs": [],
   "source": [
    "from sklearn.model_selection import StratifiedShuffleSplit"
   ]
  },
  {
   "cell_type": "code",
   "execution_count": 40,
   "metadata": {},
   "outputs": [],
   "source": [
    "sss = StratifiedShuffleSplit(n_splits=1, test_size=0.2, random_state=42)\n",
    "for train_index, test_index in sss.split(df, df['income_cat']):\n",
    "    strat_train_set = df.iloc[train_index]\n",
    "    strat_test_set = df.iloc[test_index]"
   ]
  },
  {
   "cell_type": "code",
   "execution_count": 48,
   "metadata": {},
   "outputs": [],
   "source": [
    "rand_train_x, rand_test_x, rand_train_y, rand_test_y = train_test_split(df['income_cat'],df['median_house_price_paid_mar_2020'], train_size=0.8, test_size=0.2, random_state=10)"
   ]
  },
  {
   "cell_type": "code",
   "execution_count": 53,
   "metadata": {},
   "outputs": [],
   "source": [
    "Stratified = strat_test_set['income_cat'].value_counts() / len(strat_test_set)"
   ]
  },
  {
   "cell_type": "code",
   "execution_count": 54,
   "metadata": {},
   "outputs": [],
   "source": [
    "Overall = df['income_cat'].value_counts() / len(df)"
   ]
  },
  {
   "cell_type": "code",
   "execution_count": 55,
   "metadata": {},
   "outputs": [],
   "source": [
    "Random = rand_test_x.value_counts() / len(rand_test_x)"
   ]
  },
  {
   "cell_type": "code",
   "execution_count": 56,
   "metadata": {},
   "outputs": [
    {
     "data": {
      "text/html": [
       "<div>\n",
       "<style scoped>\n",
       "    .dataframe tbody tr th:only-of-type {\n",
       "        vertical-align: middle;\n",
       "    }\n",
       "\n",
       "    .dataframe tbody tr th {\n",
       "        vertical-align: top;\n",
       "    }\n",
       "\n",
       "    .dataframe thead th {\n",
       "        text-align: right;\n",
       "    }\n",
       "</style>\n",
       "<table border=\"1\" class=\"dataframe\">\n",
       "  <thead>\n",
       "    <tr style=\"text-align: right;\">\n",
       "      <th></th>\n",
       "      <th>Overall</th>\n",
       "      <th>Stratified</th>\n",
       "      <th>Random</th>\n",
       "    </tr>\n",
       "  </thead>\n",
       "  <tbody>\n",
       "    <tr>\n",
       "      <th>2</th>\n",
       "      <td>0.435821</td>\n",
       "      <td>0.432836</td>\n",
       "      <td>0.477612</td>\n",
       "    </tr>\n",
       "    <tr>\n",
       "      <th>3</th>\n",
       "      <td>0.259701</td>\n",
       "      <td>0.268657</td>\n",
       "      <td>0.343284</td>\n",
       "    </tr>\n",
       "    <tr>\n",
       "      <th>1</th>\n",
       "      <td>0.134328</td>\n",
       "      <td>0.134328</td>\n",
       "      <td>0.074627</td>\n",
       "    </tr>\n",
       "    <tr>\n",
       "      <th>4</th>\n",
       "      <td>0.119403</td>\n",
       "      <td>0.119403</td>\n",
       "      <td>0.059701</td>\n",
       "    </tr>\n",
       "    <tr>\n",
       "      <th>5</th>\n",
       "      <td>0.050746</td>\n",
       "      <td>0.044776</td>\n",
       "      <td>0.044776</td>\n",
       "    </tr>\n",
       "  </tbody>\n",
       "</table>\n",
       "</div>"
      ],
      "text/plain": [
       "    Overall  Stratified    Random\n",
       "2  0.435821    0.432836  0.477612\n",
       "3  0.259701    0.268657  0.343284\n",
       "1  0.134328    0.134328  0.074627\n",
       "4  0.119403    0.119403  0.059701\n",
       "5  0.050746    0.044776  0.044776"
      ]
     },
     "execution_count": 56,
     "metadata": {},
     "output_type": "execute_result"
    }
   ],
   "source": [
    "data = {'Overall': Overall,\n",
    "        'Stratified': Stratified,\n",
    "        'Random':Random}\n",
    "\n",
    "df_sampling_bias_comp = pd.DataFrame(data)\n",
    "df_sampling_bias_comp"
   ]
  },
  {
   "cell_type": "code",
   "execution_count": 59,
   "metadata": {},
   "outputs": [],
   "source": [
    "df_sampling_bias_comp['Rand. %error'] = (df_sampling_bias_comp['Random'] - df_sampling_bias_comp['Overall'])*100 / df_sampling_bias_comp['Overall']\n",
    "df_sampling_bias_comp['Strat. %error'] = (df_sampling_bias_comp['Stratified'] - df_sampling_bias_comp['Overall'])*100 / df_sampling_bias_comp['Overall']"
   ]
  },
  {
   "cell_type": "code",
   "execution_count": 60,
   "metadata": {},
   "outputs": [
    {
     "data": {
      "text/html": [
       "<div>\n",
       "<style scoped>\n",
       "    .dataframe tbody tr th:only-of-type {\n",
       "        vertical-align: middle;\n",
       "    }\n",
       "\n",
       "    .dataframe tbody tr th {\n",
       "        vertical-align: top;\n",
       "    }\n",
       "\n",
       "    .dataframe thead th {\n",
       "        text-align: right;\n",
       "    }\n",
       "</style>\n",
       "<table border=\"1\" class=\"dataframe\">\n",
       "  <thead>\n",
       "    <tr style=\"text-align: right;\">\n",
       "      <th></th>\n",
       "      <th>Overall</th>\n",
       "      <th>Stratified</th>\n",
       "      <th>Random</th>\n",
       "      <th>Strat. %error</th>\n",
       "      <th>Rand. %error</th>\n",
       "    </tr>\n",
       "  </thead>\n",
       "  <tbody>\n",
       "    <tr>\n",
       "      <th>2</th>\n",
       "      <td>0.435821</td>\n",
       "      <td>0.432836</td>\n",
       "      <td>0.477612</td>\n",
       "      <td>-0.684932</td>\n",
       "      <td>9.589041</td>\n",
       "    </tr>\n",
       "    <tr>\n",
       "      <th>3</th>\n",
       "      <td>0.259701</td>\n",
       "      <td>0.268657</td>\n",
       "      <td>0.343284</td>\n",
       "      <td>3.448276</td>\n",
       "      <td>32.183908</td>\n",
       "    </tr>\n",
       "    <tr>\n",
       "      <th>1</th>\n",
       "      <td>0.134328</td>\n",
       "      <td>0.134328</td>\n",
       "      <td>0.074627</td>\n",
       "      <td>0.000000</td>\n",
       "      <td>-44.444444</td>\n",
       "    </tr>\n",
       "    <tr>\n",
       "      <th>4</th>\n",
       "      <td>0.119403</td>\n",
       "      <td>0.119403</td>\n",
       "      <td>0.059701</td>\n",
       "      <td>0.000000</td>\n",
       "      <td>-50.000000</td>\n",
       "    </tr>\n",
       "    <tr>\n",
       "      <th>5</th>\n",
       "      <td>0.050746</td>\n",
       "      <td>0.044776</td>\n",
       "      <td>0.044776</td>\n",
       "      <td>-11.764706</td>\n",
       "      <td>-11.764706</td>\n",
       "    </tr>\n",
       "  </tbody>\n",
       "</table>\n",
       "</div>"
      ],
      "text/plain": [
       "    Overall  Stratified    Random  Strat. %error  Rand. %error\n",
       "2  0.435821    0.432836  0.477612      -0.684932      9.589041\n",
       "3  0.259701    0.268657  0.343284       3.448276     32.183908\n",
       "1  0.134328    0.134328  0.074627       0.000000    -44.444444\n",
       "4  0.119403    0.119403  0.059701       0.000000    -50.000000\n",
       "5  0.050746    0.044776  0.044776     -11.764706    -11.764706"
      ]
     },
     "execution_count": 60,
     "metadata": {},
     "output_type": "execute_result"
    }
   ],
   "source": [
    "df_sampling_bias_comp"
   ]
  },
  {
   "cell_type": "markdown",
   "metadata": {},
   "source": [
    "### Lets now drop these income_cat attribute"
   ]
  },
  {
   "cell_type": "code",
   "execution_count": 61,
   "metadata": {},
   "outputs": [
    {
     "name": "stderr",
     "output_type": "stream",
     "text": [
      "C:\\Users\\User\\anaconda3\\lib\\site-packages\\pandas\\core\\frame.py:4163: SettingWithCopyWarning: \n",
      "A value is trying to be set on a copy of a slice from a DataFrame\n",
      "\n",
      "See the caveats in the documentation: https://pandas.pydata.org/pandas-docs/stable/user_guide/indexing.html#returning-a-view-versus-a-copy\n",
      "  return super().drop(\n"
     ]
    }
   ],
   "source": [
    "for set_ in (strat_train_set, strat_test_set):\n",
    "    set_.drop('income_cat', axis=1, inplace=True)"
   ]
  },
  {
   "cell_type": "code",
   "execution_count": 62,
   "metadata": {},
   "outputs": [
    {
     "data": {
      "text/html": [
       "<div>\n",
       "<style scoped>\n",
       "    .dataframe tbody tr th:only-of-type {\n",
       "        vertical-align: middle;\n",
       "    }\n",
       "\n",
       "    .dataframe tbody tr th {\n",
       "        vertical-align: top;\n",
       "    }\n",
       "\n",
       "    .dataframe thead th {\n",
       "        text-align: right;\n",
       "    }\n",
       "</style>\n",
       "<table border=\"1\" class=\"dataframe\">\n",
       "  <thead>\n",
       "    <tr style=\"text-align: right;\">\n",
       "      <th></th>\n",
       "      <th>area_code</th>\n",
       "      <th>area_name</th>\n",
       "      <th>earnings_per_week</th>\n",
       "      <th>population_2019</th>\n",
       "      <th>median_house_price_paid_mar_2020</th>\n",
       "      <th>density_per_sq.km_2019</th>\n",
       "      <th>income_cat</th>\n",
       "    </tr>\n",
       "  </thead>\n",
       "  <tbody>\n",
       "    <tr>\n",
       "      <th>0</th>\n",
       "      <td>E06000001</td>\n",
       "      <td>Hartlepool</td>\n",
       "      <td>557.2</td>\n",
       "      <td>93663</td>\n",
       "      <td>128500</td>\n",
       "      <td>999</td>\n",
       "      <td>2</td>\n",
       "    </tr>\n",
       "    <tr>\n",
       "      <th>1</th>\n",
       "      <td>E06000002</td>\n",
       "      <td>Middlesbrough</td>\n",
       "      <td>556.8</td>\n",
       "      <td>140980</td>\n",
       "      <td>137000</td>\n",
       "      <td>2616</td>\n",
       "      <td>2</td>\n",
       "    </tr>\n",
       "    <tr>\n",
       "      <th>2</th>\n",
       "      <td>E06000003</td>\n",
       "      <td>Redcar and Cleveland</td>\n",
       "      <td>506.2</td>\n",
       "      <td>137150</td>\n",
       "      <td>132950</td>\n",
       "      <td>560</td>\n",
       "      <td>2</td>\n",
       "    </tr>\n",
       "    <tr>\n",
       "      <th>3</th>\n",
       "      <td>E06000004</td>\n",
       "      <td>Stockton-on-Tees</td>\n",
       "      <td>537.3</td>\n",
       "      <td>197348</td>\n",
       "      <td>150000</td>\n",
       "      <td>963</td>\n",
       "      <td>2</td>\n",
       "    </tr>\n",
       "    <tr>\n",
       "      <th>4</th>\n",
       "      <td>E06000005</td>\n",
       "      <td>Darlington</td>\n",
       "      <td>519.3</td>\n",
       "      <td>106803</td>\n",
       "      <td>144000</td>\n",
       "      <td>541</td>\n",
       "      <td>2</td>\n",
       "    </tr>\n",
       "  </tbody>\n",
       "</table>\n",
       "</div>"
      ],
      "text/plain": [
       "   area_code              area_name  earnings_per_week  population_2019  \\\n",
       "0  E06000001            Hartlepool               557.2            93663   \n",
       "1  E06000002         Middlesbrough               556.8           140980   \n",
       "2  E06000003  Redcar and Cleveland               506.2           137150   \n",
       "3  E06000004      Stockton-on-Tees               537.3           197348   \n",
       "4  E06000005            Darlington               519.3           106803   \n",
       "\n",
       "   median_house_price_paid_mar_2020  density_per_sq.km_2019 income_cat  \n",
       "0                            128500                     999          2  \n",
       "1                            137000                    2616          2  \n",
       "2                            132950                     560          2  \n",
       "3                            150000                     963          2  \n",
       "4                            144000                     541          2  "
      ]
     },
     "execution_count": 62,
     "metadata": {},
     "output_type": "execute_result"
    }
   ],
   "source": [
    "df.head()"
   ]
  },
  {
   "cell_type": "code",
   "execution_count": null,
   "metadata": {},
   "outputs": [],
   "source": []
  }
 ],
 "metadata": {
  "kernelspec": {
   "display_name": "Python 3",
   "language": "python",
   "name": "python3"
  },
  "language_info": {
   "codemirror_mode": {
    "name": "ipython",
    "version": 3
   },
   "file_extension": ".py",
   "mimetype": "text/x-python",
   "name": "python",
   "nbconvert_exporter": "python",
   "pygments_lexer": "ipython3",
   "version": "3.8.5"
  }
 },
 "nbformat": 4,
 "nbformat_minor": 4
}
